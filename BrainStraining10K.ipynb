{
 "cells": [
  {
   "cell_type": "markdown",
   "metadata": {},
   "source": [
    "# Ten thousand tweets as @BrainStraining\n",
    "\n",
    "Today, I reached my 9,999 using the handle [@BrainStraining](https://twitter.com/BrainStraining). For my 10,000th tweet I wanted to both celebrate and see how I got here.  Earlier in the year I read a wonderfully geeky blog post by Julia Silge who used RStats to run some [cool analyses on her own first 10,000 tweets](http://juliasilge.com/blog/Ten-Thousand-Tweets/). She share That seemed like a good idea so I am forking it.\n",
    "\n",
    "Since I doubt I can add much to the good work that Julia did on the analysis side, I thought I'd see if I could add anything on the sharing side. So I thought doing things using a combination of Jupyter notebooks and Github. This is the result. \n",
    "\n",
    "Share and enjoy,  \n",
    "Caspar Addyman  \n",
    "[@BrainStraining](https://twitter.com/BrainStraining)"
   ]
  },
  {
   "cell_type": "code",
   "execution_count": 5,
   "metadata": {
    "collapsed": false
   },
   "outputs": [
    {
     "name": "stderr",
     "output_type": "stream",
     "text": [
      "Warning message:\n",
      ": package 'lubridate' was built under R version 3.2.3"
     ]
    }
   ],
   "source": [
    "library(ggplot2)\n",
    "library(lubridate)\n",
    "library(scales)\n"
   ]
  }
 ],
 "metadata": {
  "kernelspec": {
   "display_name": "R",
   "language": "R",
   "name": "ir"
  },
  "language_info": {
   "codemirror_mode": "r",
   "file_extension": ".r",
   "mimetype": "text/x-r-source",
   "name": "R",
   "pygments_lexer": "r",
   "version": "3.1.3"
  }
 },
 "nbformat": 4,
 "nbformat_minor": 0
}
